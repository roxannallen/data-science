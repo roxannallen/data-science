{
  "nbformat": 4,
  "nbformat_minor": 0,
  "metadata": {
    "colab": {
      "name": "Copy of wids_dataViz.ipynb",
      "version": "0.3.2",
      "provenance": [],
      "include_colab_link": true
    },
    "kernelspec": {
      "display_name": "Python 3",
      "language": "python",
      "name": "python3"
    }
  },
  "cells": [
    {
      "cell_type": "markdown",
      "metadata": {
        "id": "view-in-github",
        "colab_type": "text"
      },
      "source": [
        "<a href=\"https://colab.research.google.com/github/roxannallen/data-science/blob/master/Copy_of_wids_dataViz.ipynb\" target=\"_parent\"><img src=\"https://colab.research.google.com/assets/colab-badge.svg\" alt=\"Open In Colab\"/></a>"
      ]
    },
    {
      "metadata": {
        "id": "DY4GMWuYm2Mt",
        "colab_type": "code",
        "colab": {}
      },
      "cell_type": "code",
      "source": [
        "import json\n",
        "from datetime import datetime\n",
        "\n",
        "import requests\n",
        "import numpy as np\n",
        "import pandas as pd\n",
        "import matplotlib.pyplot as plt\n"
      ],
      "execution_count": 0,
      "outputs": []
    },
    {
      "metadata": {
        "id": "sFwkdTO_m2Mw",
        "colab_type": "text"
      },
      "cell_type": "markdown",
      "source": [
        "## Plotting with Matplotlib"
      ]
    },
    {
      "metadata": {
        "id": "cGfRZXlTm2Mx",
        "colab_type": "code",
        "outputId": "a027c461-f859-4423-bfe7-dc4da9ef5138",
        "colab": {
          "base_uri": "https://localhost:8080/",
          "height": 364
        }
      },
      "cell_type": "code",
      "source": [
        "simple_x = [1, 2, 3, 4, 5, 6, 7]\n",
        "simple_y = [50, 56, 54, 57, 59, 59, 57]\n",
        "\n",
        "plt.scatter(simple_x, simple_y)"
      ],
      "execution_count": 0,
      "outputs": [
        {
          "output_type": "execute_result",
          "data": {
            "text/plain": [
              "<matplotlib.collections.PathCollection at 0x7f683a717278>"
            ]
          },
          "metadata": {
            "tags": []
          },
          "execution_count": 2
        },
        {
          "output_type": "display_data",
          "data": {
            "image/png": "[encoded data removed]",
            "text/plain": [
              "<Figure size 576x396 with 1 Axes>"
            ]
          },
          "metadata": {
            "tags": []
          }
        }
      ]
    },
    {
      "metadata": {
        "id": "2SCYHsd-m2M1",
        "colab_type": "code",
        "outputId": "a47d2457-cbcb-42b7-f3a1-05f26ef6348d",
        "colab": {
          "base_uri": "https://localhost:8080/",
          "height": 364
        }
      },
      "cell_type": "code",
      "source": [
        "# If we have a list of tuples containing points\n",
        "simple_data = [(1, 50), (2, 56), (3, 54), (4, 57), (5, 59), (6, 59), (7, 57)]\n",
        "\n",
        "# We can use something like this to unpack the data:\n",
        "plt.scatter(*zip(*simple_data))"
      ],
      "execution_count": 0,
      "outputs": [
        {
          "output_type": "execute_result",
          "data": {
            "text/plain": [
              "<matplotlib.collections.PathCollection at 0x7f68386aca90>"
            ]
          },
          "metadata": {
            "tags": []
          },
          "execution_count": 3
        },
        {
          "output_type": "display_data",
          "data": {
            "image/png": "[encoded data removed]",
            "text/plain": [
              "<Figure size 576x396 with 1 Axes>"
            ]
          },
          "metadata": {
            "tags": []
          }
        }
      ]
    },
    {
      "metadata": {
        "id": "zIeRC4Wxm2M3",
        "colab_type": "text"
      },
      "cell_type": "markdown",
      "source": [
        "## Matplotlib Annotations"
      ]
    },
    {
      "metadata": {
        "id": "CNfCrj2jm2M4",
        "colab_type": "code",
        "outputId": "95c4bdfb-1853-4c97-9c26-46f0f56bb773",
        "colab": {
          "base_uri": "https://localhost:8080/",
          "height": 323
        }
      },
      "cell_type": "code",
      "source": [
        "# Matplotlib with Annotations\n",
        "\n",
        "# Source: https://www.basketball-reference.com/\n",
        "\n",
        "cleveland_seasons = [\n",
        "    ('00/01', 0.366),\n",
        "    ('01/02', 0.354),\n",
        "    ('02/03', 0.207),\n",
        "    ('03/04', 0.427), # LeBron's rookie year\n",
        "    ('04/05', 0.512),\n",
        "    ('05/06', 0.610),\n",
        "    ('06/07', 0.610),\n",
        "    ('07/08', 0.549),\n",
        "    ('08/09', 0.805),\n",
        "    ('09/10', 0.744),\n",
        "    ('10/11', 0.232), # LeBron leaves for Miami\n",
        "    ('11/12', 0.318),\n",
        "    ('12/13', 0.293),\n",
        "    ('13/14', 0.402),\n",
        "    ('14/15', 0.646), # LeBron returns to Cleveland\n",
        "    ('15/16', 0.695),\n",
        "    ('16/17', 0.622),\n",
        "    ('17/18', 0.610)\n",
        "]\n",
        "\n",
        "year, win_percentage = zip(*cleveland_seasons)\n",
        "\n",
        "win_percentage"
      ],
      "execution_count": 0,
      "outputs": [
        {
          "output_type": "execute_result",
          "data": {
            "text/plain": [
              "(0.366,\n",
              " 0.354,\n",
              " 0.207,\n",
              " 0.427,\n",
              " 0.512,\n",
              " 0.61,\n",
              " 0.61,\n",
              " 0.549,\n",
              " 0.805,\n",
              " 0.744,\n",
              " 0.232,\n",
              " 0.318,\n",
              " 0.293,\n",
              " 0.402,\n",
              " 0.646,\n",
              " 0.695,\n",
              " 0.622,\n",
              " 0.61)"
            ]
          },
          "metadata": {
            "tags": []
          },
          "execution_count": 4
        }
      ]
    },
    {
      "metadata": {
        "id": "exUWdeAYm2M6",
        "colab_type": "code",
        "outputId": "fb0e3a1a-335b-45e1-a488-06a84b2a0306",
        "colab": {
          "base_uri": "https://localhost:8080/",
          "height": 417
        }
      },
      "cell_type": "code",
      "source": [
        "# start with a base figure\n",
        "fig = plt.figure(figsize=(12, 5))\n",
        "\n",
        "# Add an Axes to the figure\n",
        "ax = fig.add_subplot(111)\n",
        "\n",
        "# Set Limits for the max value of the y-axis\n",
        "ax.set_ylim(ymax=1)\n",
        "\n",
        "ax.set_xlabel('Season year')\n",
        "ax.set_ylabel('Win Percentage')\n",
        "ax.set_title(\"Cleveland Cavaliers' Regular Season Win Percentage\")\n",
        "\n",
        "# Add annotations at specific places in the graph\n",
        "ax.annotate(\"LeBron's Rookie Year\", xy=('03/04', 0.427), xytext=(.3, .6),\n",
        "arrowprops=dict(facecolor='black', shrink=0.2, width=1),\n",
        ")\n",
        "ax.annotate(\"LeBron Leaves for Miami\", xy=('10/11', 0.232), xytext=('10/11', 0.05),\n",
        "    arrowprops=dict(facecolor='black', shrink=0.2, width=1),\n",
        ")\n",
        "ax.annotate(\"LeBron Returns to Cleveland\", xy=('14/15', 0.646), xytext=('13/14', .9),\n",
        "    arrowprops=dict(facecolor='black', shrink=0.2, width=1),\n",
        ")\n",
        "\n",
        "# Specify how you'd like the dots on the graph to appear\n",
        "# ro stands for red circles\n",
        "ax.plot(year, win_percentage, 'ro')\n"
      ],
      "execution_count": 0,
      "outputs": [
        {
          "output_type": "stream",
          "text": [
            "/usr/local/lib/python3.6/dist-packages/matplotlib/axes/_base.py:3610: MatplotlibDeprecationWarning: \n",
            "The `ymax` argument was deprecated in Matplotlib 3.0 and will be removed in 3.2. Use `top` instead.\n",
            "  alternative='`top`', obj_type='argument')\n"
          ],
          "name": "stderr"
        },
        {
          "output_type": "execute_result",
          "data": {
            "text/plain": [
              "[<matplotlib.lines.Line2D at 0x7f68385fa780>]"
            ]
          },
          "metadata": {
            "tags": []
          },
          "execution_count": 5
        },
        {
          "output_type": "display_data",
          "data": {
            "image/png": "[encoded data removed]",
            "text/plain": [
              "<Figure size 864x360 with 1 Axes>"
            ]
          },
          "metadata": {
            "tags": []
          }
        }
      ]
    },
    {
      "metadata": {
        "id": "OWkteF4Rm2M8",
        "colab_type": "text"
      },
      "cell_type": "markdown",
      "source": [
        "## Pandas\n",
        "\n",
        "The primary data structures in pandas are implemented as two classes:\n",
        "\n",
        "- DataFrame: has rows and named columns, like a table\n",
        "- Series: a single column. A DataFrame contains one or more Series and a name for each Series."
      ]
    },
    {
      "metadata": {
        "id": "dDmopCLmm2M9",
        "colab_type": "code",
        "outputId": "aa68c246-2088-409d-deaf-cace80ef27f3",
        "colab": {
          "base_uri": "https://localhost:8080/",
          "height": 142
        }
      },
      "cell_type": "code",
      "source": [
        "city_names = pd.Series(['San Francisco', 'San Jose', 'Sacramento'])\n",
        "population = pd.Series([852469, 1015785, 485199])\n",
        "\n",
        "pd.DataFrame({ 'City name': city_names, 'Population': population })"
      ],
      "execution_count": 0,
      "outputs": [
        {
          "output_type": "execute_result",
          "data": {
            "text/html": [
              "<div>\n",
              "<style scoped>\n",
              "    .dataframe tbody tr th:only-of-type {\n",
              "        vertical-align: middle;\n",
              "    }\n",
              "\n",
              "    .dataframe tbody tr th {\n",
              "        vertical-align: top;\n",
              "    }\n",
              "\n",
              "    .dataframe thead th {\n",
              "        text-align: right;\n",
              "    }\n",
              "</style>\n",
              "<table border=\"1\" class=\"dataframe\">\n",
              "  <thead>\n",
              "    <tr style=\"text-align: right;\">\n",
              "      <th></th>\n",
              "      <th>City name</th>\n",
              "      <th>Population</th>\n",
              "    </tr>\n",
              "  </thead>\n",
              "  <tbody>\n",
              "    <tr>\n",
              "      <th>0</th>\n",
              "      <td>San Francisco</td>\n",
              "      <td>852469</td>\n",
              "    </tr>\n",
              "    <tr>\n",
              "      <th>1</th>\n",
              "      <td>San Jose</td>\n",
              "      <td>1015785</td>\n",
              "    </tr>\n",
              "    <tr>\n",
              "      <th>2</th>\n",
              "      <td>Sacramento</td>\n",
              "      <td>485199</td>\n",
              "    </tr>\n",
              "  </tbody>\n",
              "</table>\n",
              "</div>"
            ],
            "text/plain": [
              "       City name  Population\n",
              "0  San Francisco      852469\n",
              "1       San Jose     1015785\n",
              "2     Sacramento      485199"
            ]
          },
          "metadata": {
            "tags": []
          },
          "execution_count": 6
        }
      ]
    },
    {
      "metadata": {
        "id": "BjMxzA1Cm2M_",
        "colab_type": "code",
        "colab": {}
      },
      "cell_type": "code",
      "source": [
        "# Pandas can create a dataframe straight from a CSV file\n",
        "# This data comes from the Charlottesville Open Data Portal\n",
        "city_trails_data = 'https://raw.githubusercontent.com/erinspace/wids_dataviz/master/city_trails.csv'\n",
        "\n",
        "trails_df = pd.read_csv(city_trails_data)"
      ],
      "execution_count": 0,
      "outputs": []
    },
    {
      "metadata": {
        "id": "tZl3tK9mm2NB",
        "colab_type": "code",
        "outputId": "9b75fd96-cbc6-4b43-bef0-1d6d4fb0bbd1",
        "colab": {
          "base_uri": "https://localhost:8080/",
          "height": 204
        }
      },
      "cell_type": "code",
      "source": [
        "# Look at the first few rows of the DataFrame\n",
        "trails_df.head()"
      ],
      "execution_count": 0,
      "outputs": [
        {
          "output_type": "execute_result",
          "data": {
            "text/html": [
              "<div>\n",
              "<style scoped>\n",
              "    .dataframe tbody tr th:only-of-type {\n",
              "        vertical-align: middle;\n",
              "    }\n",
              "\n",
              "    .dataframe tbody tr th {\n",
              "        vertical-align: top;\n",
              "    }\n",
              "\n",
              "    .dataframe thead th {\n",
              "        text-align: right;\n",
              "    }\n",
              "</style>\n",
              "<table border=\"1\" class=\"dataframe\">\n",
              "  <thead>\n",
              "    <tr style=\"text-align: right;\">\n",
              "      <th></th>\n",
              "      <th>OBJECTID</th>\n",
              "      <th>NAME</th>\n",
              "      <th>TYPE</th>\n",
              "      <th>STATUS</th>\n",
              "      <th>EASEMENT</th>\n",
              "      <th>PROPERTY_OWNER</th>\n",
              "    </tr>\n",
              "  </thead>\n",
              "  <tbody>\n",
              "    <tr>\n",
              "      <th>0</th>\n",
              "      <td>28</td>\n",
              "      <td>Emmet Street</td>\n",
              "      <td>Shared Use Path</td>\n",
              "      <td>Proposed</td>\n",
              "      <td>In discussion</td>\n",
              "      <td>UVA/ROW</td>\n",
              "    </tr>\n",
              "    <tr>\n",
              "      <th>1</th>\n",
              "      <td>261</td>\n",
              "      <td>Coal Tower</td>\n",
              "      <td>Shared Use Path</td>\n",
              "      <td>Existing</td>\n",
              "      <td>Proffer</td>\n",
              "      <td>Red Light</td>\n",
              "    </tr>\n",
              "    <tr>\n",
              "      <th>2</th>\n",
              "      <td>264</td>\n",
              "      <td>Buford SRTS - Cherry Avenue</td>\n",
              "      <td>Soft Surface</td>\n",
              "      <td>Proposed</td>\n",
              "      <td>In discussion</td>\n",
              "      <td>City School Board</td>\n",
              "    </tr>\n",
              "    <tr>\n",
              "      <th>3</th>\n",
              "      <td>265</td>\n",
              "      <td>Buford Nature Trail</td>\n",
              "      <td>Soft Surface</td>\n",
              "      <td>Existing</td>\n",
              "      <td>Complete</td>\n",
              "      <td>City School Board</td>\n",
              "    </tr>\n",
              "    <tr>\n",
              "      <th>4</th>\n",
              "      <td>250</td>\n",
              "      <td>Buford Nature Trail</td>\n",
              "      <td>Soft Surface</td>\n",
              "      <td>Existing</td>\n",
              "      <td>Complete</td>\n",
              "      <td>City School Board</td>\n",
              "    </tr>\n",
              "  </tbody>\n",
              "</table>\n",
              "</div>"
            ],
            "text/plain": [
              "   OBJECTID                         NAME             TYPE    STATUS  \\\n",
              "0        28                 Emmet Street  Shared Use Path  Proposed   \n",
              "1       261                   Coal Tower  Shared Use Path  Existing   \n",
              "2       264  Buford SRTS - Cherry Avenue     Soft Surface  Proposed   \n",
              "3       265          Buford Nature Trail     Soft Surface  Existing   \n",
              "4       250          Buford Nature Trail     Soft Surface  Existing   \n",
              "\n",
              "        EASEMENT     PROPERTY_OWNER  \n",
              "0  In discussion            UVA/ROW  \n",
              "1        Proffer          Red Light  \n",
              "2  In discussion  City School Board  \n",
              "3       Complete  City School Board  \n",
              "4       Complete  City School Board  "
            ]
          },
          "metadata": {
            "tags": []
          },
          "execution_count": 8
        }
      ]
    },
    {
      "metadata": {
        "id": "N7I2oGkOm2ND",
        "colab_type": "code",
        "outputId": "c1612777-e8b9-4cf8-f0cc-7197ddc4ffba",
        "colab": {
          "base_uri": "https://localhost:8080/",
          "height": 204
        }
      },
      "cell_type": "code",
      "source": [
        "trails_df.tail()"
      ],
      "execution_count": 0,
      "outputs": [
        {
          "output_type": "execute_result",
          "data": {
            "text/html": [
              "<div>\n",
              "<style scoped>\n",
              "    .dataframe tbody tr th:only-of-type {\n",
              "        vertical-align: middle;\n",
              "    }\n",
              "\n",
              "    .dataframe tbody tr th {\n",
              "        vertical-align: top;\n",
              "    }\n",
              "\n",
              "    .dataframe thead th {\n",
              "        text-align: right;\n",
              "    }\n",
              "</style>\n",
              "<table border=\"1\" class=\"dataframe\">\n",
              "  <thead>\n",
              "    <tr style=\"text-align: right;\">\n",
              "      <th></th>\n",
              "      <th>OBJECTID</th>\n",
              "      <th>NAME</th>\n",
              "      <th>TYPE</th>\n",
              "      <th>STATUS</th>\n",
              "      <th>EASEMENT</th>\n",
              "      <th>PROPERTY_OWNER</th>\n",
              "    </tr>\n",
              "  </thead>\n",
              "  <tbody>\n",
              "    <tr>\n",
              "      <th>403</th>\n",
              "      <td>3068</td>\n",
              "      <td>NaN</td>\n",
              "      <td>Shared Use Path</td>\n",
              "      <td>Existing</td>\n",
              "      <td>NaN</td>\n",
              "      <td>NaN</td>\n",
              "    </tr>\n",
              "    <tr>\n",
              "      <th>404</th>\n",
              "      <td>3069</td>\n",
              "      <td>NaN</td>\n",
              "      <td>Shared Use Path</td>\n",
              "      <td>Existing</td>\n",
              "      <td>NaN</td>\n",
              "      <td>NaN</td>\n",
              "    </tr>\n",
              "    <tr>\n",
              "      <th>405</th>\n",
              "      <td>3070</td>\n",
              "      <td>NaN</td>\n",
              "      <td>Shared Use Path</td>\n",
              "      <td>Existing</td>\n",
              "      <td>NaN</td>\n",
              "      <td>NaN</td>\n",
              "    </tr>\n",
              "    <tr>\n",
              "      <th>406</th>\n",
              "      <td>3071</td>\n",
              "      <td>NaN</td>\n",
              "      <td>Shared Use Path</td>\n",
              "      <td>Existing</td>\n",
              "      <td>NaN</td>\n",
              "      <td>NaN</td>\n",
              "    </tr>\n",
              "    <tr>\n",
              "      <th>407</th>\n",
              "      <td>3072</td>\n",
              "      <td>NaN</td>\n",
              "      <td>Shared Use Path</td>\n",
              "      <td>Existing</td>\n",
              "      <td>NaN</td>\n",
              "      <td>NaN</td>\n",
              "    </tr>\n",
              "  </tbody>\n",
              "</table>\n",
              "</div>"
            ],
            "text/plain": [
              "     OBJECTID NAME             TYPE    STATUS EASEMENT PROPERTY_OWNER\n",
              "403      3068  NaN  Shared Use Path  Existing      NaN            NaN\n",
              "404      3069  NaN  Shared Use Path  Existing      NaN            NaN\n",
              "405      3070  NaN  Shared Use Path  Existing      NaN            NaN\n",
              "406      3071  NaN  Shared Use Path  Existing      NaN            NaN\n",
              "407      3072  NaN  Shared Use Path  Existing      NaN            NaN"
            ]
          },
          "metadata": {
            "tags": []
          },
          "execution_count": 9
        }
      ]
    },
    {
      "metadata": {
        "id": "nlqhZ5TEm2NF",
        "colab_type": "code",
        "outputId": "31392279-d77a-4e8e-efff-d12efee13b1d",
        "colab": {
          "base_uri": "https://localhost:8080/",
          "height": 1969
        }
      },
      "cell_type": "code",
      "source": [
        "# Or, the whole thing! With a few cut out in the middle\n",
        "trails_df"
      ],
      "execution_count": 0,
      "outputs": [
        {
          "output_type": "execute_result",
          "data": {
            "text/html": [
              "<div>\n",
              "<style scoped>\n",
              "    .dataframe tbody tr th:only-of-type {\n",
              "        vertical-align: middle;\n",
              "    }\n",
              "\n",
              "    .dataframe tbody tr th {\n",
              "        vertical-align: top;\n",
              "    }\n",
              "\n",
              "    .dataframe thead th {\n",
              "        text-align: right;\n",
              "    }\n",
              "</style>\n",
              "<table border=\"1\" class=\"dataframe\">\n",
              "  <thead>\n",
              "    <tr style=\"text-align: right;\">\n",
              "      <th></th>\n",
              "      <th>OBJECTID</th>\n",
              "      <th>NAME</th>\n",
              "      <th>TYPE</th>\n",
              "      <th>STATUS</th>\n",
              "      <th>EASEMENT</th>\n",
              "      <th>PROPERTY_OWNER</th>\n",
              "    </tr>\n",
              "  </thead>\n",
              "  <tbody>\n",
              "    <tr>\n",
              "      <th>0</th>\n",
              "      <td>28</td>\n",
              "      <td>Emmet Street</td>\n",
              "      <td>Shared Use Path</td>\n",
              "      <td>Proposed</td>\n",
              "      <td>In discussion</td>\n",
              "      <td>UVA/ROW</td>\n",
              "    </tr>\n",
              "    <tr>\n",
              "      <th>1</th>\n",
              "      <td>261</td>\n",
              "      <td>Coal Tower</td>\n",
              "      <td>Shared Use Path</td>\n",
              "      <td>Existing</td>\n",
              "      <td>Proffer</td>\n",
              "      <td>Red Light</td>\n",
              "    </tr>\n",
              "    <tr>\n",
              "      <th>2</th>\n",
              "      <td>264</td>\n",
              "      <td>Buford SRTS - Cherry Avenue</td>\n",
              "      <td>Soft Surface</td>\n",
              "      <td>Proposed</td>\n",
              "      <td>In discussion</td>\n",
              "      <td>City School Board</td>\n",
              "    </tr>\n",
              "    <tr>\n",
              "      <th>3</th>\n",
              "      <td>265</td>\n",
              "      <td>Buford Nature Trail</td>\n",
              "      <td>Soft Surface</td>\n",
              "      <td>Existing</td>\n",
              "      <td>Complete</td>\n",
              "      <td>City School Board</td>\n",
              "    </tr>\n",
              "    <tr>\n",
              "      <th>4</th>\n",
              "      <td>250</td>\n",
              "      <td>Buford Nature Trail</td>\n",
              "      <td>Soft Surface</td>\n",
              "      <td>Existing</td>\n",
              "      <td>Complete</td>\n",
              "      <td>City School Board</td>\n",
              "    </tr>\n",
              "    <tr>\n",
              "      <th>5</th>\n",
              "      <td>222</td>\n",
              "      <td>Buford Nature Trail</td>\n",
              "      <td>Soft Surface</td>\n",
              "      <td>Existing</td>\n",
              "      <td>Complete</td>\n",
              "      <td>City School Board</td>\n",
              "    </tr>\n",
              "    <tr>\n",
              "      <th>6</th>\n",
              "      <td>266</td>\n",
              "      <td>Greenbrier Entry Path</td>\n",
              "      <td>Shared Use Path</td>\n",
              "      <td>Existing</td>\n",
              "      <td>Complete</td>\n",
              "      <td>City</td>\n",
              "    </tr>\n",
              "    <tr>\n",
              "      <th>7</th>\n",
              "      <td>267</td>\n",
              "      <td>Greenbrier Entry Path</td>\n",
              "      <td>Shared Use Path</td>\n",
              "      <td>Existing</td>\n",
              "      <td>Complete</td>\n",
              "      <td>City</td>\n",
              "    </tr>\n",
              "    <tr>\n",
              "      <th>8</th>\n",
              "      <td>287</td>\n",
              "      <td>Rivanna River Trail</td>\n",
              "      <td>Shared Use Path</td>\n",
              "      <td>Existing</td>\n",
              "      <td>Complete</td>\n",
              "      <td>Riverview Cemetery Co.</td>\n",
              "    </tr>\n",
              "    <tr>\n",
              "      <th>9</th>\n",
              "      <td>294</td>\n",
              "      <td>Rivanna River Trail</td>\n",
              "      <td>Shared Use Path</td>\n",
              "      <td>Existing</td>\n",
              "      <td>Complete</td>\n",
              "      <td>Luck Development Partners</td>\n",
              "    </tr>\n",
              "    <tr>\n",
              "      <th>10</th>\n",
              "      <td>296</td>\n",
              "      <td>Rivanna River Trail</td>\n",
              "      <td>Shared Use Path</td>\n",
              "      <td>Existing</td>\n",
              "      <td>Complete</td>\n",
              "      <td>Luck Development Partners</td>\n",
              "    </tr>\n",
              "    <tr>\n",
              "      <th>11</th>\n",
              "      <td>298</td>\n",
              "      <td>Rivanna River Trail</td>\n",
              "      <td>Shared Use Path</td>\n",
              "      <td>Existing</td>\n",
              "      <td>Complete</td>\n",
              "      <td>Luck Development Partners</td>\n",
              "    </tr>\n",
              "    <tr>\n",
              "      <th>12</th>\n",
              "      <td>299</td>\n",
              "      <td>Rivanna River Trail</td>\n",
              "      <td>Shared Use Path</td>\n",
              "      <td>Existing</td>\n",
              "      <td>Complete</td>\n",
              "      <td>Pennbrook Properties, LLC</td>\n",
              "    </tr>\n",
              "    <tr>\n",
              "      <th>13</th>\n",
              "      <td>289</td>\n",
              "      <td>Rivanna River Trail</td>\n",
              "      <td>Shared Use Path</td>\n",
              "      <td>Existing</td>\n",
              "      <td>Complete</td>\n",
              "      <td>Richard and Fred Miler</td>\n",
              "    </tr>\n",
              "    <tr>\n",
              "      <th>14</th>\n",
              "      <td>674</td>\n",
              "      <td>Greenbrier School track</td>\n",
              "      <td>Shared Use Path</td>\n",
              "      <td>Existing</td>\n",
              "      <td>Complete</td>\n",
              "      <td>City School Board</td>\n",
              "    </tr>\n",
              "    <tr>\n",
              "      <th>15</th>\n",
              "      <td>675</td>\n",
              "      <td>Johnson School Loop</td>\n",
              "      <td>Shared Use Path</td>\n",
              "      <td>Existing</td>\n",
              "      <td>Complete</td>\n",
              "      <td>City School Board</td>\n",
              "    </tr>\n",
              "    <tr>\n",
              "      <th>16</th>\n",
              "      <td>609</td>\n",
              "      <td>Holiday Drive sidewalk</td>\n",
              "      <td>Shared Use Path</td>\n",
              "      <td>Existing</td>\n",
              "      <td>Complete</td>\n",
              "      <td>City ROW</td>\n",
              "    </tr>\n",
              "    <tr>\n",
              "      <th>17</th>\n",
              "      <td>361</td>\n",
              "      <td>Holiday Drive</td>\n",
              "      <td>Shared Use Path</td>\n",
              "      <td>Proposed</td>\n",
              "      <td>Complete</td>\n",
              "      <td>City ROW</td>\n",
              "    </tr>\n",
              "    <tr>\n",
              "      <th>18</th>\n",
              "      <td>362</td>\n",
              "      <td>250 Parallel</td>\n",
              "      <td>Shared Use Path</td>\n",
              "      <td>Existing</td>\n",
              "      <td>Complete</td>\n",
              "      <td>City ROW</td>\n",
              "    </tr>\n",
              "    <tr>\n",
              "      <th>19</th>\n",
              "      <td>610</td>\n",
              "      <td>250-Hydraulic connector</td>\n",
              "      <td>Shared Use Path</td>\n",
              "      <td>Proposed</td>\n",
              "      <td>Complete</td>\n",
              "      <td>City ROW</td>\n",
              "    </tr>\n",
              "    <tr>\n",
              "      <th>20</th>\n",
              "      <td>78</td>\n",
              "      <td>Meadowcreek - Hyd-250 Triangle</td>\n",
              "      <td>Shared Use Path</td>\n",
              "      <td>Proposed</td>\n",
              "      <td>In discussion</td>\n",
              "      <td>Dominion Power</td>\n",
              "    </tr>\n",
              "    <tr>\n",
              "      <th>21</th>\n",
              "      <td>552</td>\n",
              "      <td>250-Hydraulic - Holiday Drive</td>\n",
              "      <td>Shared Use Path</td>\n",
              "      <td>Proposed</td>\n",
              "      <td>In discussion</td>\n",
              "      <td>Lane Bonner / Kurt Wassenaar</td>\n",
              "    </tr>\n",
              "    <tr>\n",
              "      <th>22</th>\n",
              "      <td>614</td>\n",
              "      <td>Meadowcreek</td>\n",
              "      <td>RTF</td>\n",
              "      <td>Existing</td>\n",
              "      <td>RTF</td>\n",
              "      <td>Locust Grove HOA</td>\n",
              "    </tr>\n",
              "    <tr>\n",
              "      <th>23</th>\n",
              "      <td>380</td>\n",
              "      <td>Rivanna River</td>\n",
              "      <td>Shared Use Path</td>\n",
              "      <td>Proposed</td>\n",
              "      <td>Will Not Allow</td>\n",
              "      <td>Reilly</td>\n",
              "    </tr>\n",
              "    <tr>\n",
              "      <th>24</th>\n",
              "      <td>382</td>\n",
              "      <td>Rivanna River</td>\n",
              "      <td>Shared Use Path</td>\n",
              "      <td>Proposed</td>\n",
              "      <td>Will Not Allow</td>\n",
              "      <td>Presely</td>\n",
              "    </tr>\n",
              "    <tr>\n",
              "      <th>25</th>\n",
              "      <td>378</td>\n",
              "      <td>Rivanna River</td>\n",
              "      <td>Shared Use Path</td>\n",
              "      <td>Proposed</td>\n",
              "      <td>In discussion</td>\n",
              "      <td>Potter</td>\n",
              "    </tr>\n",
              "    <tr>\n",
              "      <th>26</th>\n",
              "      <td>384</td>\n",
              "      <td>Rivanna Rive</td>\n",
              "      <td>Shared Use Path</td>\n",
              "      <td>Proposed</td>\n",
              "      <td>Complete</td>\n",
              "      <td>City</td>\n",
              "    </tr>\n",
              "    <tr>\n",
              "      <th>27</th>\n",
              "      <td>25</td>\n",
              "      <td>Pen Park - Meadowcreek Connector</td>\n",
              "      <td>Soft Surface</td>\n",
              "      <td>Existing</td>\n",
              "      <td>Complete</td>\n",
              "      <td>City</td>\n",
              "    </tr>\n",
              "    <tr>\n",
              "      <th>28</th>\n",
              "      <td>615</td>\n",
              "      <td>Pen Park Megan Trailhead</td>\n",
              "      <td>Soft Surface</td>\n",
              "      <td>Existing</td>\n",
              "      <td>Complete</td>\n",
              "      <td>City</td>\n",
              "    </tr>\n",
              "    <tr>\n",
              "      <th>29</th>\n",
              "      <td>617</td>\n",
              "      <td>PenParkSouth</td>\n",
              "      <td>Soft Surface</td>\n",
              "      <td>Existing</td>\n",
              "      <td>Complete</td>\n",
              "      <td>City</td>\n",
              "    </tr>\n",
              "    <tr>\n",
              "      <th>...</th>\n",
              "      <td>...</td>\n",
              "      <td>...</td>\n",
              "      <td>...</td>\n",
              "      <td>...</td>\n",
              "      <td>...</td>\n",
              "      <td>...</td>\n",
              "    </tr>\n",
              "    <tr>\n",
              "      <th>378</th>\n",
              "      <td>3049</td>\n",
              "      <td>NaN</td>\n",
              "      <td>Soft Surface</td>\n",
              "      <td>Proposed</td>\n",
              "      <td>Complete</td>\n",
              "      <td>City</td>\n",
              "    </tr>\n",
              "    <tr>\n",
              "      <th>379</th>\n",
              "      <td>3050</td>\n",
              "      <td>NaN</td>\n",
              "      <td>Soft Surface</td>\n",
              "      <td>Proposed</td>\n",
              "      <td>Complete</td>\n",
              "      <td>City</td>\n",
              "    </tr>\n",
              "    <tr>\n",
              "      <th>380</th>\n",
              "      <td>3051</td>\n",
              "      <td>NaN</td>\n",
              "      <td>Soft Surface</td>\n",
              "      <td>Proposed</td>\n",
              "      <td>Complete</td>\n",
              "      <td>City</td>\n",
              "    </tr>\n",
              "    <tr>\n",
              "      <th>381</th>\n",
              "      <td>3052</td>\n",
              "      <td>NaN</td>\n",
              "      <td>Soft Surface</td>\n",
              "      <td>Proposed</td>\n",
              "      <td>Complete</td>\n",
              "      <td>City</td>\n",
              "    </tr>\n",
              "    <tr>\n",
              "      <th>382</th>\n",
              "      <td>3048</td>\n",
              "      <td>NaN</td>\n",
              "      <td>Soft Surface</td>\n",
              "      <td>Existing</td>\n",
              "      <td>Complete</td>\n",
              "      <td>City</td>\n",
              "    </tr>\n",
              "    <tr>\n",
              "      <th>383</th>\n",
              "      <td>3053</td>\n",
              "      <td>southern ventures</td>\n",
              "      <td>Shared Use Path</td>\n",
              "      <td>Proposed</td>\n",
              "      <td>Will Not Allow</td>\n",
              "      <td>NaN</td>\n",
              "    </tr>\n",
              "    <tr>\n",
              "      <th>384</th>\n",
              "      <td>3055</td>\n",
              "      <td>NaN</td>\n",
              "      <td>Shared Use Path</td>\n",
              "      <td>Proposed</td>\n",
              "      <td>Proffer</td>\n",
              "      <td>Habitat</td>\n",
              "    </tr>\n",
              "    <tr>\n",
              "      <th>385</th>\n",
              "      <td>3056</td>\n",
              "      <td>Avon Yard</td>\n",
              "      <td>Soft Surface</td>\n",
              "      <td>Existing</td>\n",
              "      <td>Complete</td>\n",
              "      <td>City</td>\n",
              "    </tr>\n",
              "    <tr>\n",
              "      <th>386</th>\n",
              "      <td>1789</td>\n",
              "      <td>NaN</td>\n",
              "      <td>Shared Use Path</td>\n",
              "      <td>Proposed</td>\n",
              "      <td>NaN</td>\n",
              "      <td>NaN</td>\n",
              "    </tr>\n",
              "    <tr>\n",
              "      <th>387</th>\n",
              "      <td>3057</td>\n",
              "      <td>NaN</td>\n",
              "      <td>Shared Use Path</td>\n",
              "      <td>Proposed</td>\n",
              "      <td>Proffer</td>\n",
              "      <td>Habitat</td>\n",
              "    </tr>\n",
              "    <tr>\n",
              "      <th>388</th>\n",
              "      <td>938</td>\n",
              "      <td>NaN</td>\n",
              "      <td>Shared Use Path</td>\n",
              "      <td>Existing</td>\n",
              "      <td>Complete</td>\n",
              "      <td>City</td>\n",
              "    </tr>\n",
              "    <tr>\n",
              "      <th>389</th>\n",
              "      <td>939</td>\n",
              "      <td>NaN</td>\n",
              "      <td>Shared Use Path</td>\n",
              "      <td>Existing</td>\n",
              "      <td>Complete</td>\n",
              "      <td>City</td>\n",
              "    </tr>\n",
              "    <tr>\n",
              "      <th>390</th>\n",
              "      <td>3059</td>\n",
              "      <td>NaN</td>\n",
              "      <td>NaN</td>\n",
              "      <td>NaN</td>\n",
              "      <td>Complete</td>\n",
              "      <td>NaN</td>\n",
              "    </tr>\n",
              "    <tr>\n",
              "      <th>391</th>\n",
              "      <td>3060</td>\n",
              "      <td>NaN</td>\n",
              "      <td>NaN</td>\n",
              "      <td>NaN</td>\n",
              "      <td>Complete</td>\n",
              "      <td>NaN</td>\n",
              "    </tr>\n",
              "    <tr>\n",
              "      <th>392</th>\n",
              "      <td>3061</td>\n",
              "      <td>Meadow Brook Drive</td>\n",
              "      <td>Shared Use Path</td>\n",
              "      <td>Proposed</td>\n",
              "      <td>Complete</td>\n",
              "      <td>Alan Taylor (developer)</td>\n",
              "    </tr>\n",
              "    <tr>\n",
              "      <th>393</th>\n",
              "      <td>679</td>\n",
              "      <td>Venable School</td>\n",
              "      <td>Shared Use Path</td>\n",
              "      <td>Existing</td>\n",
              "      <td>Complete</td>\n",
              "      <td>City School Board</td>\n",
              "    </tr>\n",
              "    <tr>\n",
              "      <th>394</th>\n",
              "      <td>3062</td>\n",
              "      <td>NaN</td>\n",
              "      <td>Shared Use Path</td>\n",
              "      <td>Proposed</td>\n",
              "      <td>NaN</td>\n",
              "      <td>NaN</td>\n",
              "    </tr>\n",
              "    <tr>\n",
              "      <th>395</th>\n",
              "      <td>3063</td>\n",
              "      <td>NaN</td>\n",
              "      <td>Shared Use Path</td>\n",
              "      <td>Proposed</td>\n",
              "      <td>NaN</td>\n",
              "      <td>NaN</td>\n",
              "    </tr>\n",
              "    <tr>\n",
              "      <th>396</th>\n",
              "      <td>3064</td>\n",
              "      <td>NaN</td>\n",
              "      <td>Shared Use Path</td>\n",
              "      <td>Proposed</td>\n",
              "      <td>NaN</td>\n",
              "      <td>NaN</td>\n",
              "    </tr>\n",
              "    <tr>\n",
              "      <th>397</th>\n",
              "      <td>271</td>\n",
              "      <td>Rivanna River Trail</td>\n",
              "      <td>Shared Use Path</td>\n",
              "      <td>Existing</td>\n",
              "      <td>Complete</td>\n",
              "      <td>PS2 Properties</td>\n",
              "    </tr>\n",
              "    <tr>\n",
              "      <th>398</th>\n",
              "      <td>3065</td>\n",
              "      <td>NaN</td>\n",
              "      <td>Shared Use Path</td>\n",
              "      <td>Proposed</td>\n",
              "      <td>NaN</td>\n",
              "      <td>NaN</td>\n",
              "    </tr>\n",
              "    <tr>\n",
              "      <th>399</th>\n",
              "      <td>3066</td>\n",
              "      <td>NaN</td>\n",
              "      <td>Shared Use Path</td>\n",
              "      <td>Proposed</td>\n",
              "      <td>NaN</td>\n",
              "      <td>NaN</td>\n",
              "    </tr>\n",
              "    <tr>\n",
              "      <th>400</th>\n",
              "      <td>3058</td>\n",
              "      <td>NaN</td>\n",
              "      <td>Shared Use Path</td>\n",
              "      <td>Existing</td>\n",
              "      <td>NaN</td>\n",
              "      <td>NaN</td>\n",
              "    </tr>\n",
              "    <tr>\n",
              "      <th>401</th>\n",
              "      <td>3067</td>\n",
              "      <td>NaN</td>\n",
              "      <td>Shared Use Path</td>\n",
              "      <td>Existing</td>\n",
              "      <td>NaN</td>\n",
              "      <td>NaN</td>\n",
              "    </tr>\n",
              "    <tr>\n",
              "      <th>402</th>\n",
              "      <td>33</td>\n",
              "      <td>Rock Creek</td>\n",
              "      <td>Shared Use Path</td>\n",
              "      <td>Proposed</td>\n",
              "      <td>Complete</td>\n",
              "      <td>Cherry Hill</td>\n",
              "    </tr>\n",
              "    <tr>\n",
              "      <th>403</th>\n",
              "      <td>3068</td>\n",
              "      <td>NaN</td>\n",
              "      <td>Shared Use Path</td>\n",
              "      <td>Existing</td>\n",
              "      <td>NaN</td>\n",
              "      <td>NaN</td>\n",
              "    </tr>\n",
              "    <tr>\n",
              "      <th>404</th>\n",
              "      <td>3069</td>\n",
              "      <td>NaN</td>\n",
              "      <td>Shared Use Path</td>\n",
              "      <td>Existing</td>\n",
              "      <td>NaN</td>\n",
              "      <td>NaN</td>\n",
              "    </tr>\n",
              "    <tr>\n",
              "      <th>405</th>\n",
              "      <td>3070</td>\n",
              "      <td>NaN</td>\n",
              "      <td>Shared Use Path</td>\n",
              "      <td>Existing</td>\n",
              "      <td>NaN</td>\n",
              "      <td>NaN</td>\n",
              "    </tr>\n",
              "    <tr>\n",
              "      <th>406</th>\n",
              "      <td>3071</td>\n",
              "      <td>NaN</td>\n",
              "      <td>Shared Use Path</td>\n",
              "      <td>Existing</td>\n",
              "      <td>NaN</td>\n",
              "      <td>NaN</td>\n",
              "    </tr>\n",
              "    <tr>\n",
              "      <th>407</th>\n",
              "      <td>3072</td>\n",
              "      <td>NaN</td>\n",
              "      <td>Shared Use Path</td>\n",
              "      <td>Existing</td>\n",
              "      <td>NaN</td>\n",
              "      <td>NaN</td>\n",
              "    </tr>\n",
              "  </tbody>\n",
              "</table>\n",
              "<p>408 rows × 6 columns</p>\n",
              "</div>"
            ],
            "text/plain": [
              "     OBJECTID                              NAME             TYPE    STATUS  \\\n",
              "0          28                      Emmet Street  Shared Use Path  Proposed   \n",
              "1         261                        Coal Tower  Shared Use Path  Existing   \n",
              "2         264       Buford SRTS - Cherry Avenue     Soft Surface  Proposed   \n",
              "3         265               Buford Nature Trail     Soft Surface  Existing   \n",
              "4         250               Buford Nature Trail     Soft Surface  Existing   \n",
              "5         222               Buford Nature Trail     Soft Surface  Existing   \n",
              "6         266             Greenbrier Entry Path  Shared Use Path  Existing   \n",
              "7         267             Greenbrier Entry Path  Shared Use Path  Existing   \n",
              "8         287               Rivanna River Trail  Shared Use Path  Existing   \n",
              "9         294               Rivanna River Trail  Shared Use Path  Existing   \n",
              "10        296               Rivanna River Trail  Shared Use Path  Existing   \n",
              "11        298               Rivanna River Trail  Shared Use Path  Existing   \n",
              "12        299               Rivanna River Trail  Shared Use Path  Existing   \n",
              "13        289               Rivanna River Trail  Shared Use Path  Existing   \n",
              "14        674           Greenbrier School track  Shared Use Path  Existing   \n",
              "15        675               Johnson School Loop  Shared Use Path  Existing   \n",
              "16        609            Holiday Drive sidewalk  Shared Use Path  Existing   \n",
              "17        361                     Holiday Drive  Shared Use Path  Proposed   \n",
              "18        362                      250 Parallel  Shared Use Path  Existing   \n",
              "19        610           250-Hydraulic connector  Shared Use Path  Proposed   \n",
              "20         78    Meadowcreek - Hyd-250 Triangle  Shared Use Path  Proposed   \n",
              "21        552     250-Hydraulic - Holiday Drive  Shared Use Path  Proposed   \n",
              "22        614                       Meadowcreek              RTF  Existing   \n",
              "23        380                     Rivanna River  Shared Use Path  Proposed   \n",
              "24        382                     Rivanna River  Shared Use Path  Proposed   \n",
              "25        378                     Rivanna River  Shared Use Path  Proposed   \n",
              "26        384                      Rivanna Rive  Shared Use Path  Proposed   \n",
              "27         25  Pen Park - Meadowcreek Connector     Soft Surface  Existing   \n",
              "28        615          Pen Park Megan Trailhead     Soft Surface  Existing   \n",
              "29        617                      PenParkSouth     Soft Surface  Existing   \n",
              "..        ...                               ...              ...       ...   \n",
              "378      3049                               NaN     Soft Surface  Proposed   \n",
              "379      3050                               NaN     Soft Surface  Proposed   \n",
              "380      3051                               NaN     Soft Surface  Proposed   \n",
              "381      3052                               NaN     Soft Surface  Proposed   \n",
              "382      3048                               NaN     Soft Surface  Existing   \n",
              "383      3053                 southern ventures  Shared Use Path  Proposed   \n",
              "384      3055                               NaN  Shared Use Path  Proposed   \n",
              "385      3056                         Avon Yard     Soft Surface  Existing   \n",
              "386      1789                               NaN  Shared Use Path  Proposed   \n",
              "387      3057                               NaN  Shared Use Path  Proposed   \n",
              "388       938                               NaN  Shared Use Path  Existing   \n",
              "389       939                               NaN  Shared Use Path  Existing   \n",
              "390      3059                               NaN              NaN       NaN   \n",
              "391      3060                               NaN              NaN       NaN   \n",
              "392      3061                Meadow Brook Drive  Shared Use Path  Proposed   \n",
              "393       679                    Venable School  Shared Use Path  Existing   \n",
              "394      3062                               NaN  Shared Use Path  Proposed   \n",
              "395      3063                               NaN  Shared Use Path  Proposed   \n",
              "396      3064                               NaN  Shared Use Path  Proposed   \n",
              "397       271               Rivanna River Trail  Shared Use Path  Existing   \n",
              "398      3065                               NaN  Shared Use Path  Proposed   \n",
              "399      3066                               NaN  Shared Use Path  Proposed   \n",
              "400      3058                               NaN  Shared Use Path  Existing   \n",
              "401      3067                               NaN  Shared Use Path  Existing   \n",
              "402        33                        Rock Creek  Shared Use Path  Proposed   \n",
              "403      3068                               NaN  Shared Use Path  Existing   \n",
              "404      3069                               NaN  Shared Use Path  Existing   \n",
              "405      3070                               NaN  Shared Use Path  Existing   \n",
              "406      3071                               NaN  Shared Use Path  Existing   \n",
              "407      3072                               NaN  Shared Use Path  Existing   \n",
              "\n",
              "           EASEMENT                PROPERTY_OWNER  \n",
              "0     In discussion                       UVA/ROW  \n",
              "1           Proffer                     Red Light  \n",
              "2     In discussion             City School Board  \n",
              "3          Complete             City School Board  \n",
              "4          Complete             City School Board  \n",
              "5          Complete             City School Board  \n",
              "6          Complete                          City  \n",
              "7          Complete                          City  \n",
              "8          Complete        Riverview Cemetery Co.  \n",
              "9          Complete     Luck Development Partners  \n",
              "10         Complete     Luck Development Partners  \n",
              "11         Complete     Luck Development Partners  \n",
              "12         Complete     Pennbrook Properties, LLC  \n",
              "13         Complete        Richard and Fred Miler  \n",
              "14         Complete             City School Board  \n",
              "15         Complete             City School Board  \n",
              "16         Complete                      City ROW  \n",
              "17         Complete                      City ROW  \n",
              "18         Complete                      City ROW  \n",
              "19         Complete                      City ROW  \n",
              "20    In discussion                Dominion Power  \n",
              "21    In discussion  Lane Bonner / Kurt Wassenaar  \n",
              "22              RTF              Locust Grove HOA  \n",
              "23   Will Not Allow                        Reilly  \n",
              "24   Will Not Allow                       Presely  \n",
              "25    In discussion                        Potter  \n",
              "26         Complete                          City  \n",
              "27         Complete                          City  \n",
              "28         Complete                          City  \n",
              "29         Complete                          City  \n",
              "..              ...                           ...  \n",
              "378        Complete                          City  \n",
              "379        Complete                          City  \n",
              "380        Complete                          City  \n",
              "381        Complete                          City  \n",
              "382        Complete                          City  \n",
              "383  Will Not Allow                           NaN  \n",
              "384         Proffer                       Habitat  \n",
              "385        Complete                          City  \n",
              "386             NaN                           NaN  \n",
              "387         Proffer                       Habitat  \n",
              "388        Complete                          City  \n",
              "389        Complete                          City  \n",
              "390        Complete                           NaN  \n",
              "391        Complete                           NaN  \n",
              "392        Complete       Alan Taylor (developer)  \n",
              "393        Complete             City School Board  \n",
              "394             NaN                           NaN  \n",
              "395             NaN                           NaN  \n",
              "396             NaN                           NaN  \n",
              "397        Complete                PS2 Properties  \n",
              "398             NaN                           NaN  \n",
              "399             NaN                           NaN  \n",
              "400             NaN                           NaN  \n",
              "401             NaN                           NaN  \n",
              "402        Complete                   Cherry Hill  \n",
              "403             NaN                           NaN  \n",
              "404             NaN                           NaN  \n",
              "405             NaN                           NaN  \n",
              "406             NaN                           NaN  \n",
              "407             NaN                           NaN  \n",
              "\n",
              "[408 rows x 6 columns]"
            ]
          },
          "metadata": {
            "tags": []
          },
          "execution_count": 10
        }
      ]
    },
    {
      "metadata": {
        "id": "CZC8YMbbm2NI",
        "colab_type": "code",
        "outputId": "ab69d473-d461-420d-d531-e51915d4aee9",
        "colab": {
          "base_uri": "https://localhost:8080/",
          "height": 34
        }
      },
      "cell_type": "code",
      "source": [
        "# Show the number of rows and columns\n",
        "trails_df.shape"
      ],
      "execution_count": 0,
      "outputs": [
        {
          "output_type": "execute_result",
          "data": {
            "text/plain": [
              "(408, 6)"
            ]
          },
          "metadata": {
            "tags": []
          },
          "execution_count": 11
        }
      ]
    },
    {
      "metadata": {
        "id": "3CuN98Fzm2NL",
        "colab_type": "code",
        "outputId": "fd912c11-2942-4554-8a21-f3f5f9e1bfa3",
        "colab": {
          "base_uri": "https://localhost:8080/",
          "height": 337
        }
      },
      "cell_type": "code",
      "source": [
        "# Just select one column of the dataframe to focus on\n",
        "easement_data = trails_df['EASEMENT']\n",
        "\n",
        "# figsize is the size in inches of the figure to create\n",
        "easement_data.hist(figsize=(15, 5))\n"
      ],
      "execution_count": 0,
      "outputs": [
        {
          "output_type": "execute_result",
          "data": {
            "text/plain": [
              "<matplotlib.axes._subplots.AxesSubplot at 0x7f68385355c0>"
            ]
          },
          "metadata": {
            "tags": []
          },
          "execution_count": 12
        },
        {
          "output_type": "display_data",
          "data": {
            "image/png": "[encoded data removed]",
            "text/plain": [
              "<Figure size 1080x360 with 1 Axes>"
            ]
          },
          "metadata": {
            "tags": []
          }
        }
      ]
    },
    {
      "metadata": {
        "id": "gRRJlTQLm2NN",
        "colab_type": "code",
        "outputId": "e1953952-56ff-431a-ace6-f4575ed1d959",
        "colab": {
          "base_uri": "https://localhost:8080/",
          "height": 102
        }
      },
      "cell_type": "code",
      "source": [
        "# Use describe to get some interesting metrics about the dataset\n",
        "easement_data.describe()"
      ],
      "execution_count": 0,
      "outputs": [
        {
          "output_type": "execute_result",
          "data": {
            "text/plain": [
              "count          388\n",
              "unique           8\n",
              "top       Complete\n",
              "freq           277\n",
              "Name: EASEMENT, dtype: object"
            ]
          },
          "metadata": {
            "tags": []
          },
          "execution_count": 13
        }
      ]
    },
    {
      "metadata": {
        "id": "aXOTqA9Jm2NQ",
        "colab_type": "code",
        "outputId": "fe9045f9-6ea8-47f4-a334-1847dcc7b04e",
        "colab": {
          "base_uri": "https://localhost:8080/",
          "height": 337
        }
      },
      "cell_type": "code",
      "source": [
        "trail_type_df = trails_df['TYPE']\n",
        "\n",
        "trail_type_df.hist(figsize=(15, 5))"
      ],
      "execution_count": 0,
      "outputs": [
        {
          "output_type": "execute_result",
          "data": {
            "text/plain": [
              "<matplotlib.axes._subplots.AxesSubplot at 0x7f68360a0278>"
            ]
          },
          "metadata": {
            "tags": []
          },
          "execution_count": 14
        },
        {
          "output_type": "display_data",
          "data": {
            "image/png": "[encoded data removed]",
            "text/plain": [
              "<Figure size 1080x360 with 1 Axes>"
            ]
          },
          "metadata": {
            "tags": []
          }
        }
      ]
    },
    {
      "metadata": {
        "id": "qnY_jVYem2NT",
        "colab_type": "code",
        "outputId": "f4608b55-5430-4cde-e806-99966aaf80a2",
        "colab": {
          "base_uri": "https://localhost:8080/",
          "height": 297
        }
      },
      "cell_type": "code",
      "source": [
        "# Faculty earlings from a Plotly example dataset - load from a CSV\n",
        "# More on how to do this later!\n",
        "school_earnings_raw_url = 'https://raw.githubusercontent.com/plotly/datasets/master/school_earnings.csv'\n",
        "school_earnings = pd.read_csv(school_earnings_raw_url)\n",
        "\n",
        "# Get summary stats about the dataset\n",
        "school_earnings.describe()"
      ],
      "execution_count": 0,
      "outputs": [
        {
          "output_type": "execute_result",
          "data": {
            "text/html": [
              "<div>\n",
              "<style scoped>\n",
              "    .dataframe tbody tr th:only-of-type {\n",
              "        vertical-align: middle;\n",
              "    }\n",
              "\n",
              "    .dataframe tbody tr th {\n",
              "        vertical-align: top;\n",
              "    }\n",
              "\n",
              "    .dataframe thead th {\n",
              "        text-align: right;\n",
              "    }\n",
              "</style>\n",
              "<table border=\"1\" class=\"dataframe\">\n",
              "  <thead>\n",
              "    <tr style=\"text-align: right;\">\n",
              "      <th></th>\n",
              "      <th>Women</th>\n",
              "      <th>Men</th>\n",
              "      <th>Gap</th>\n",
              "    </tr>\n",
              "  </thead>\n",
              "  <tbody>\n",
              "    <tr>\n",
              "      <th>count</th>\n",
              "      <td>21.000000</td>\n",
              "      <td>21.000000</td>\n",
              "      <td>21.000000</td>\n",
              "    </tr>\n",
              "    <tr>\n",
              "      <th>mean</th>\n",
              "      <td>81.095238</td>\n",
              "      <td>113.523810</td>\n",
              "      <td>32.428571</td>\n",
              "    </tr>\n",
              "    <tr>\n",
              "      <th>std</th>\n",
              "      <td>12.813683</td>\n",
              "      <td>25.705289</td>\n",
              "      <td>14.137084</td>\n",
              "    </tr>\n",
              "    <tr>\n",
              "      <th>min</th>\n",
              "      <td>62.000000</td>\n",
              "      <td>78.000000</td>\n",
              "      <td>9.000000</td>\n",
              "    </tr>\n",
              "    <tr>\n",
              "      <th>25%</th>\n",
              "      <td>72.000000</td>\n",
              "      <td>92.000000</td>\n",
              "      <td>22.000000</td>\n",
              "    </tr>\n",
              "    <tr>\n",
              "      <th>50%</th>\n",
              "      <td>79.000000</td>\n",
              "      <td>114.000000</td>\n",
              "      <td>31.000000</td>\n",
              "    </tr>\n",
              "    <tr>\n",
              "      <th>75%</th>\n",
              "      <td>92.000000</td>\n",
              "      <td>131.000000</td>\n",
              "      <td>40.000000</td>\n",
              "    </tr>\n",
              "    <tr>\n",
              "      <th>max</th>\n",
              "      <td>112.000000</td>\n",
              "      <td>165.000000</td>\n",
              "      <td>58.000000</td>\n",
              "    </tr>\n",
              "  </tbody>\n",
              "</table>\n",
              "</div>"
            ],
            "text/plain": [
              "            Women         Men        Gap\n",
              "count   21.000000   21.000000  21.000000\n",
              "mean    81.095238  113.523810  32.428571\n",
              "std     12.813683   25.705289  14.137084\n",
              "min     62.000000   78.000000   9.000000\n",
              "25%     72.000000   92.000000  22.000000\n",
              "50%     79.000000  114.000000  31.000000\n",
              "75%     92.000000  131.000000  40.000000\n",
              "max    112.000000  165.000000  58.000000"
            ]
          },
          "metadata": {
            "tags": []
          },
          "execution_count": 15
        }
      ]
    },
    {
      "metadata": {
        "id": "vpcrcpxxm2NV",
        "colab_type": "code",
        "outputId": "28908e17-3a57-4e6c-e28b-d1b80dd8954c",
        "colab": {
          "base_uri": "https://localhost:8080/",
          "height": 198
        }
      },
      "cell_type": "code",
      "source": [
        "parking_tickets = pd.read_csv('https://raw.githubusercontent.com/erinspace/wids_dataviz/master/parking_tickets.csv')\n",
        "\n",
        "parking_tickets.head()"
      ],
      "execution_count": 2,
      "outputs": [
        {
          "output_type": "error",
          "ename": "NameError",
          "evalue": "ignored",
          "traceback": [
            "\u001b[0;31m---------------------------------------------------------------------------\u001b[0m",
            "\u001b[0;31mNameError\u001b[0m                                 Traceback (most recent call last)",
            "\u001b[0;32m<ipython-input-2-039185de301a>\u001b[0m in \u001b[0;36m<module>\u001b[0;34m()\u001b[0m\n\u001b[0;32m----> 1\u001b[0;31m \u001b[0mparking_tickets\u001b[0m \u001b[0;34m=\u001b[0m \u001b[0mpd\u001b[0m\u001b[0;34m.\u001b[0m\u001b[0mread_csv\u001b[0m\u001b[0;34m(\u001b[0m\u001b[0;34m'https://raw.githubusercontent.com/erinspace/wids_dataviz/master/parking_tickets.csv'\u001b[0m\u001b[0;34m)\u001b[0m\u001b[0;34m\u001b[0m\u001b[0;34m\u001b[0m\u001b[0m\n\u001b[0m\u001b[1;32m      2\u001b[0m \u001b[0;34m\u001b[0m\u001b[0m\n\u001b[1;32m      3\u001b[0m \u001b[0mparking_tickets\u001b[0m\u001b[0;34m.\u001b[0m\u001b[0mhead\u001b[0m\u001b[0;34m(\u001b[0m\u001b[0;34m)\u001b[0m\u001b[0;34m\u001b[0m\u001b[0;34m\u001b[0m\u001b[0m\n",
            "\u001b[0;31mNameError\u001b[0m: name 'pd' is not defined"
          ]
        }
      ]
    },
    {
      "metadata": {
        "id": "JMmzrAKJm2NX",
        "colab_type": "code",
        "outputId": "e5423ef9-6691-40e0-dca8-51e7eed2c1fb",
        "colab": {
          "base_uri": "https://localhost:8080/",
          "height": 34
        }
      },
      "cell_type": "code",
      "source": [
        "parking_tickets.shape"
      ],
      "execution_count": 0,
      "outputs": [
        {
          "output_type": "execute_result",
          "data": {
            "text/plain": [
              "(5000, 18)"
            ]
          },
          "metadata": {
            "tags": []
          },
          "execution_count": 17
        }
      ]
    },
    {
      "metadata": {
        "id": "1ZZgmT2Wm2NZ",
        "colab_type": "code",
        "outputId": "d0e13762-b4d4-4b5a-efb3-c4aed1ab9a01",
        "colab": {
          "base_uri": "https://localhost:8080/",
          "height": 34
        }
      },
      "cell_type": "code",
      "source": [
        "len(parking_tickets)"
      ],
      "execution_count": 0,
      "outputs": [
        {
          "output_type": "execute_result",
          "data": {
            "text/plain": [
              "5000"
            ]
          },
          "metadata": {
            "tags": []
          },
          "execution_count": 18
        }
      ]
    },
    {
      "metadata": {
        "id": "M2Bl2amGm2Nb",
        "colab_type": "text"
      },
      "cell_type": "markdown",
      "source": [
        "# Data parsing -- dates and datetimes\n",
        "\n",
        "Dates and datetimes are a big place where you have to use extra care when reading data. \n",
        "\n",
        "Date - Just a Month, day and year.\n",
        "\n",
        "Datetime - A month, day, year, and time. "
      ]
    },
    {
      "metadata": {
        "id": "9Uh_wlXxm2Nc",
        "colab_type": "code",
        "outputId": "9c673ac0-0a8e-40c6-e3e9-6faed59f432e",
        "colab": {
          "base_uri": "https://localhost:8080/",
          "height": 34
        }
      },
      "cell_type": "code",
      "source": [
        "# let's look at the first date issued\n",
        "first_datetime = parking_tickets['DateIssued'][0]\n",
        "\n",
        "first_datetime"
      ],
      "execution_count": 0,
      "outputs": [
        {
          "output_type": "execute_result",
          "data": {
            "text/plain": [
              "'2015-10-30T04:00:00.000Z'"
            ]
          },
          "metadata": {
            "tags": []
          },
          "execution_count": 19
        }
      ]
    },
    {
      "metadata": {
        "id": "-fyw31cAm2Ne",
        "colab_type": "code",
        "outputId": "e9c02888-a9d6-4c14-eeec-1c0638904233",
        "colab": {
          "base_uri": "https://localhost:8080/",
          "height": 34
        }
      },
      "cell_type": "code",
      "source": [
        "# Figure out how to parse this into a datetime\n",
        "datetime.strptime(first_datetime, '%Y-%m-%dT%H:%M:%S.%fZ')"
      ],
      "execution_count": 0,
      "outputs": [
        {
          "output_type": "execute_result",
          "data": {
            "text/plain": [
              "datetime.datetime(2015, 10, 30, 4, 0)"
            ]
          },
          "metadata": {
            "tags": []
          },
          "execution_count": 20
        }
      ]
    },
    {
      "metadata": {
        "id": "oiYIWrerm2Nf",
        "colab_type": "code",
        "colab": {}
      },
      "cell_type": "code",
      "source": [
        "# apply this to every entry in this column\n",
        "# df['a'] = df['a'].apply(lambda x: x + 1)"
      ],
      "execution_count": 0,
      "outputs": []
    },
    {
      "metadata": {
        "id": "CO_vEQNmm2Nh",
        "colab_type": "code",
        "colab": {}
      },
      "cell_type": "code",
      "source": [
        "parking_tickets['NewDateIssued'] = parking_tickets['DateIssued'].apply(\n",
        "    lambda x: datetime.strptime(x,  '%Y-%m-%dT%H:%M:%S.%fZ')\n",
        ")"
      ],
      "execution_count": 0,
      "outputs": []
    },
    {
      "metadata": {
        "id": "OEShE67Im2Nj",
        "colab_type": "code",
        "outputId": "7fc9ca61-d2d8-4bb1-c336-cacd04cff4f6",
        "colab": {
          "base_uri": "https://localhost:8080/",
          "height": 34
        }
      },
      "cell_type": "code",
      "source": [
        "parking_tickets['DateIssued'][0]"
      ],
      "execution_count": 0,
      "outputs": [
        {
          "output_type": "execute_result",
          "data": {
            "text/plain": [
              "'2015-10-30T04:00:00.000Z'"
            ]
          },
          "metadata": {
            "tags": []
          },
          "execution_count": 23
        }
      ]
    },
    {
      "metadata": {
        "id": "-KKipqTjm2Nl",
        "colab_type": "code",
        "outputId": "edaf5109-5d40-447d-f8e7-0378e52ad283",
        "colab": {
          "base_uri": "https://localhost:8080/",
          "height": 34
        }
      },
      "cell_type": "code",
      "source": [
        "parking_tickets['NewDateIssued'][0]"
      ],
      "execution_count": 0,
      "outputs": [
        {
          "output_type": "execute_result",
          "data": {
            "text/plain": [
              "Timestamp('2015-10-30 04:00:00')"
            ]
          },
          "metadata": {
            "tags": []
          },
          "execution_count": 24
        }
      ]
    },
    {
      "metadata": {
        "id": "ISObj-Cbm2Nn",
        "colab_type": "code",
        "colab": {}
      },
      "cell_type": "code",
      "source": [
        "parking_tickets['LicenseState'].hist(figsize=(40, 5))"
      ],
      "execution_count": 0,
      "outputs": []
    },
    {
      "metadata": {
        "id": "2kJw5_2Pm2Np",
        "colab_type": "text"
      },
      "cell_type": "markdown",
      "source": [
        "## Data Parsing\n",
        "\n",
        "Filter out missing data and narrow to the data you'd like to examine\n",
        "\n",
        "Sometimes we want to focus on data that exists in a dataset rather than include \"NA\" or missing values."
      ]
    },
    {
      "metadata": {
        "id": "l4xb4iWJm2Ns",
        "colab_type": "code",
        "colab": {}
      },
      "cell_type": "code",
      "source": [
        "tickets_with_appeals.shape"
      ],
      "execution_count": 0,
      "outputs": []
    },
    {
      "metadata": {
        "id": "J1fxuzD5m2Np",
        "colab_type": "code",
        "colab": {
          "base_uri": "https://localhost:8080/",
          "height": 215
        },
        "outputId": "2aa0f35d-298b-4e44-e5ce-0b9f1706dd88"
      },
      "cell_type": "code",
      "source": [
        "appeals = parking_tickets['AppealStatus'].notna()\n",
        "tickets_with_appeals = parking_tickets[appeals]\n",
        "\n",
        "tickets_with_appeals.head()"
      ],
      "execution_count": 1,
      "outputs": [
        {
          "output_type": "error",
          "ename": "NameError",
          "evalue": "ignored",
          "traceback": [
            "\u001b[0;31m---------------------------------------------------------------------------\u001b[0m",
            "\u001b[0;31mNameError\u001b[0m                                 Traceback (most recent call last)",
            "\u001b[0;32m<ipython-input-1-ea31de5edb3b>\u001b[0m in \u001b[0;36m<module>\u001b[0;34m()\u001b[0m\n\u001b[0;32m----> 1\u001b[0;31m \u001b[0mappeals\u001b[0m \u001b[0;34m=\u001b[0m \u001b[0mparking_tickets\u001b[0m\u001b[0;34m[\u001b[0m\u001b[0;34m'AppealStatus'\u001b[0m\u001b[0;34m]\u001b[0m\u001b[0;34m.\u001b[0m\u001b[0mnotna\u001b[0m\u001b[0;34m(\u001b[0m\u001b[0;34m)\u001b[0m\u001b[0;34m\u001b[0m\u001b[0;34m\u001b[0m\u001b[0m\n\u001b[0m\u001b[1;32m      2\u001b[0m \u001b[0mtickets_with_appeals\u001b[0m \u001b[0;34m=\u001b[0m \u001b[0mparking_tickets\u001b[0m\u001b[0;34m[\u001b[0m\u001b[0mappeals\u001b[0m\u001b[0;34m]\u001b[0m\u001b[0;34m\u001b[0m\u001b[0;34m\u001b[0m\u001b[0m\n\u001b[1;32m      3\u001b[0m \u001b[0;34m\u001b[0m\u001b[0m\n\u001b[1;32m      4\u001b[0m \u001b[0mtickets_with_appeals\u001b[0m\u001b[0;34m.\u001b[0m\u001b[0mhead\u001b[0m\u001b[0;34m(\u001b[0m\u001b[0;34m)\u001b[0m\u001b[0;34m\u001b[0m\u001b[0;34m\u001b[0m\u001b[0m\n",
            "\u001b[0;31mNameError\u001b[0m: name 'parking_tickets' is not defined"
          ]
        }
      ]
    },
    {
      "metadata": {
        "id": "fIjZAUV8m2Nu",
        "colab_type": "code",
        "colab": {}
      },
      "cell_type": "code",
      "source": [
        "# Know what's in your data -- see all the different posibilities for appeal type\n",
        "tickets_with_appeals.AppealStatus.unique()"
      ],
      "execution_count": 0,
      "outputs": []
    },
    {
      "metadata": {
        "id": "RUSgTg9sm2Nw",
        "colab_type": "code",
        "colab": {}
      },
      "cell_type": "code",
      "source": [
        "# Create a new dataframe whose appeals aren't pending\n",
        "finished_appeal_values = tickets_with_appeals['AppealStatus'] != 'pending'\n",
        "\n",
        "finished_appeals = tickets_with_appeals[finished_appeal_values]\n",
        "\n",
        "finished_appeals.head()"
      ],
      "execution_count": 0,
      "outputs": []
    },
    {
      "metadata": {
        "id": "s30CYvDOm2Ny",
        "colab_type": "code",
        "colab": {}
      },
      "cell_type": "code",
      "source": [
        "finished_appeals.shape"
      ],
      "execution_count": 0,
      "outputs": []
    },
    {
      "metadata": {
        "id": "2yj1UTYdm2Nz",
        "colab_type": "code",
        "colab": {}
      },
      "cell_type": "code",
      "source": [
        "# Sanity checks are also great!\n",
        "finished_appeals.AppealStatus.unique()"
      ],
      "execution_count": 0,
      "outputs": []
    },
    {
      "metadata": {
        "id": "0OfEXZICm2N1",
        "colab_type": "code",
        "colab": {}
      },
      "cell_type": "code",
      "source": [
        "# Narrow down your dataframe to just the columns you're interested in\n",
        "selected_data = finished_appeals[['LicenseState', 'TimeIssued', 'ViolationDescription', 'AppealStatus']]\n",
        "selected_data.head()"
      ],
      "execution_count": 0,
      "outputs": []
    },
    {
      "metadata": {
        "id": "G8W91CrEm2N3",
        "colab_type": "code",
        "colab": {}
      },
      "cell_type": "code",
      "source": [
        "# See Unique values in ViolationDescription\n",
        "\n",
        "selected_data['ViolationDescription'].unique()\n"
      ],
      "execution_count": 0,
      "outputs": []
    },
    {
      "metadata": {
        "id": "YUdFbLMom2N5",
        "colab_type": "code",
        "colab": {}
      },
      "cell_type": "code",
      "source": [
        "# See how many of each there are\n",
        "parking_tickets['ViolationDescription'].value_counts()\n"
      ],
      "execution_count": 0,
      "outputs": []
    },
    {
      "metadata": {
        "id": "RCFtsvu6m2N7",
        "colab_type": "code",
        "colab": {}
      },
      "cell_type": "code",
      "source": [
        "parking_tickets['ViolationDescription'].hist(figsize=(20, 5), xrot=45)\n"
      ],
      "execution_count": 0,
      "outputs": []
    },
    {
      "metadata": {
        "id": "3anIcJigm2N-",
        "colab_type": "text"
      },
      "cell_type": "markdown",
      "source": [
        "# JSON Data parsing\n",
        "\n",
        "We have some climate data in JSON format, which we can pretty easilly get into python dictionary, with the key as the year and the value as the temperature difference. "
      ]
    },
    {
      "metadata": {
        "id": "8Szr_fTqm2N_",
        "colab_type": "text"
      },
      "cell_type": "markdown",
      "source": [
        "## \"yearly average temperature anomalies\"\n",
        "\n",
        "[source](https://www.climate.gov/maps-data/dataset/global-temperature-anomalies-graphing-tool)\n",
        "\n",
        ">Comparing the average temperature of land and ocean combined for a year period to the average temperature for the same period over the 20th century shows if conditions are warmer or cooler than the past."
      ]
    },
    {
      "metadata": {
        "id": "FUTtlJSNm2N_",
        "colab_type": "code",
        "colab": {}
      },
      "cell_type": "code",
      "source": [
        "# Climate data from https://www.ncdc.noaa.gov/cag/\n",
        "\n",
        "response = requests.get('https://raw.githubusercontent.com/erinspace/wids_dataviz/master/global_temp_anomalies.json')\n",
        "climate_json = response.json()\n",
        "\n",
        "# Uncomment lines below to load from file instead\n",
        "# with open('global_temp_anomalies.json', 'r') as data_file:    \n",
        "#     climate_json = json.load(data_file)\n",
        "    \n",
        "\n",
        "print(json.dumps(climate_json, indent=4))\n"
      ],
      "execution_count": 0,
      "outputs": []
    },
    {
      "metadata": {
        "id": "7mtbUj4Am2OC",
        "colab_type": "code",
        "colab": {}
      },
      "cell_type": "code",
      "source": [
        "years = [int(year) for year in climate_json['data'].keys()]\n",
        "temp_anomolies = [float(temp_anomaly) for temp_anomaly in climate_json['data'].values()]\n",
        "\n",
        "plt.scatter(years, temp_anomolies)\n"
      ],
      "execution_count": 0,
      "outputs": []
    },
    {
      "metadata": {
        "id": "TWNV_diDm2OE",
        "colab_type": "text"
      },
      "cell_type": "markdown",
      "source": [
        "## Find New Data Sources!\n",
        "\n",
        "There are lots of places around the web to pull in CSVs or JSON of raw data, and try to do some simple visualizations. \n",
        "\n",
        "Here's a place to get started:\n",
        "https://github.com/plotly/datasets"
      ]
    },
    {
      "metadata": {
        "id": "vZJeGHj6m2OF",
        "colab_type": "text"
      },
      "cell_type": "markdown",
      "source": [
        "1. Scroll through the example datasets on this public github repo\n",
        "2. Click on a CSV file. For example: https://github.com/plotly/datasets/blob/master/school_earnings.csv\n",
        "3. Click \"raw\"\n",
        "4. Copy the raw data URL: https://raw.githubusercontent.com/plotly/datasets/master/school_earnings.csv\n",
        "5. Open the CSV in a pandas dataframe"
      ]
    },
    {
      "metadata": {
        "id": "L58Jj5Jdm2OG",
        "colab_type": "code",
        "colab": {}
      },
      "cell_type": "code",
      "source": [
        "# Example. Make your own!\n",
        "school_earnings_raw_url = 'https://raw.githubusercontent.com/plotly/datasets/master/school_earnings.csv'\n",
        "\n",
        "school_earnings = pd.read_csv(school_earnings_raw_url)\n",
        "\n",
        "school_earnings"
      ],
      "execution_count": 0,
      "outputs": []
    },
    {
      "metadata": {
        "id": "l1IJIBTRm2OJ",
        "colab_type": "code",
        "colab": {}
      },
      "cell_type": "code",
      "source": [
        "# Your code here!"
      ],
      "execution_count": 0,
      "outputs": []
    },
    {
      "metadata": {
        "id": "Ype66kQym2OK",
        "colab_type": "code",
        "colab": {}
      },
      "cell_type": "code",
      "source": [
        "# Interactive Maps!"
      ],
      "execution_count": 0,
      "outputs": []
    },
    {
      "metadata": {
        "id": "wyFuWCRvm2OM",
        "colab_type": "code",
        "colab": {}
      },
      "cell_type": "code",
      "source": [
        "# Bokeh Imports\n",
        "\n",
        "import time\n",
        "\n",
        "from bokeh.io import push_notebook, show, output_notebook\n",
        "from bokeh.layouts import row\n",
        "from bokeh.models import HoverTool\n",
        "from bokeh.plotting import figure \n",
        "\n",
        "\n",
        "# This call should happen early on in your code\n",
        "output_notebook()\n",
        "# Uncomment the line below to output to a a static HTML file instead\n",
        "# output_file(\"lines.html\")"
      ],
      "execution_count": 0,
      "outputs": []
    },
    {
      "metadata": {
        "id": "WHi0M5rHm2OO",
        "colab_type": "code",
        "colab": {}
      },
      "cell_type": "code",
      "source": [
        "# Example from Bokeh's getting started guide\n",
        "# https://bokeh.pydata.org/en/latest/docs/user_guide/quickstart.html\n",
        "\n",
        "# prepare some data\n",
        "x = [1, 2, 3, 4, 5]\n",
        "y = [6, 7, 2, 4, 5]\n",
        "\n",
        "# create a new plot with a title and axis labels\n",
        "p = figure(title=\"simple line example\", x_axis_label='x', y_axis_label='y')\n",
        "\n",
        "# add a line renderer with legend and line thickness\n",
        "p.line(x, y, legend=\"Temp.\", line_width=2)\n",
        "\n",
        "# show the results\n",
        "show(p)\n"
      ],
      "execution_count": 0,
      "outputs": []
    },
    {
      "metadata": {
        "id": "2oGjPQeVm2OP",
        "colab_type": "code",
        "colab": {}
      },
      "cell_type": "code",
      "source": [
        "# Example from \n",
        "# https://github.com/bokeh/bokeh/blob/master/examples/howto/notebook_comms/Basic%20Usage.ipynb\n",
        "\n",
        "# Set some options\n",
        "opts = dict(plot_width=250, plot_height=250, min_border=0)"
      ],
      "execution_count": 0,
      "outputs": []
    },
    {
      "metadata": {
        "id": "ZmfHEXR_m2OQ",
        "colab_type": "code",
        "colab": {}
      },
      "cell_type": "code",
      "source": [
        "# Create two interactive Figures, side by side\n",
        "p1 = figure(**opts)\n",
        "r1 = p1.circle([1,2,3], [4,5,6], size=20)\n",
        "\n",
        "p2 = figure(**opts)\n",
        "r2 = p2.circle([1,2,3], [4,5,6], size=20)\n",
        "\n",
        "# get a handle to update the shown cell with\n",
        "# You can use this to interactively update these graphs in later cells\n",
        "t = show(row(p1, p2), notebook_handle=True)"
      ],
      "execution_count": 0,
      "outputs": []
    },
    {
      "metadata": {
        "id": "c8uCrBi8m2OS",
        "colab_type": "code",
        "colab": {}
      },
      "cell_type": "code",
      "source": [
        "# this will update the left plot circle color with an explicit handle\n",
        "r1.glyph.fill_color = \"white\"\n",
        "push_notebook(handle=t)"
      ],
      "execution_count": 0,
      "outputs": []
    },
    {
      "metadata": {
        "id": "bzCHWLkFm2OU",
        "colab_type": "code",
        "colab": {}
      },
      "cell_type": "code",
      "source": [
        "# and this will update the right plot circle color because it was in the last shown cell\n",
        "r2.glyph.fill_color = \"pink\"\n",
        "push_notebook()"
      ],
      "execution_count": 0,
      "outputs": []
    },
    {
      "metadata": {
        "id": "LUHEiMa4m2OV",
        "colab_type": "code",
        "colab": {}
      },
      "cell_type": "code",
      "source": [
        "# Example from \n",
        "# https://github.com/bokeh/bokeh/blob/master/examples/howto/notebook_comms/Continuous%20Updating.ipynb\n",
        "# Define some random data\n",
        "N = 1000\n",
        "x = np.random.random(size=N) * 100\n",
        "y = np.random.random(size=N) * 100\n",
        "radii = np.random.random(size=N) * 2\n",
        "colors = [\"#%02x%02x%02x\" % (int(r), int(g), 150) for r, g in zip(50+2*x, 30+2*y)]"
      ],
      "execution_count": 0,
      "outputs": []
    },
    {
      "metadata": {
        "id": "CJhzq7RFm2OW",
        "colab_type": "code",
        "colab": {}
      },
      "cell_type": "code",
      "source": [
        "# Define the toolsets you'd like to enable\n",
        "TOOLS=\"crosshair,pan,wheel_zoom,box_zoom,reset,tap,box_select,lasso_select\"\n",
        "\n",
        "p = figure(tools=TOOLS)\n",
        "p.axis.major_label_text_font_size = \"18pt\"\n",
        "hover = HoverTool(tooltips=None, mode=\"vline\")\n",
        "p.add_tools(hover)\n",
        "r = p.circle(x,y, radius=radii, \n",
        "             fill_color=colors, fill_alpha=0.6, line_color=None, \n",
        "             hover_fill_color=\"black\", hover_fill_alpha=0.7, hover_line_color=None)"
      ],
      "execution_count": 0,
      "outputs": []
    },
    {
      "metadata": {
        "id": "E5xdABcgm2OX",
        "colab_type": "code",
        "colab": {}
      },
      "cell_type": "code",
      "source": [
        "# get an explicit handle to update the next show cell with\n",
        "target = show(p, notebook_handle=True)"
      ],
      "execution_count": 0,
      "outputs": []
    },
    {
      "metadata": {
        "id": "DI4gEEL0m2OZ",
        "colab_type": "code",
        "colab": {}
      },
      "cell_type": "code",
      "source": [
        "i = 0\n",
        "# Change this value to make the changes happen for longer\n",
        "MAX_ITERATIONS = 100\n",
        "\n",
        "# The original example was while True, which will run until you stop it manually\n",
        "while i < MAX_ITERATIONS:\n",
        "    i +=1 \n",
        "    p.title.text = str(i)\n",
        "    \n",
        "    r.data_source.data['radius'] = radii * (2 + np.sin(i/5))\n",
        "    \n",
        "    x = r.data_source.data['x']\n",
        "    y = r.data_source.data['y']\n",
        "    d = np.sqrt((x-50)**2 + (y-50)**2)/100\n",
        "    rand = 2 * (np.random.random(size=N) - 0.5)\n",
        "    r.data_source.data['x'] = x + 2 * np.sin(d) * rand\n",
        "    r.data_source.data['y'] = y + np.cos(d**2) * rand\n",
        "    \n",
        "    p.axis.major_label_text_color = r.data_source.data['fill_color'][int(i%N)]\n",
        "\n",
        "    # push updates to the plot continuously using the handle\n",
        "    push_notebook(handle=target)\n",
        "    time.sleep(0.1)"
      ],
      "execution_count": 0,
      "outputs": []
    },
    {
      "metadata": {
        "id": "XDuPT-rlm2Ob",
        "colab_type": "code",
        "colab": {}
      },
      "cell_type": "code",
      "source": [
        ""
      ],
      "execution_count": 0,
      "outputs": []
    }
  ]
}